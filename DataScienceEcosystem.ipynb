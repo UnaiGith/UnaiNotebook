{
 "cells": [
  {
   "cell_type": "markdown",
   "id": "9b9bceff-d12b-4947-b24d-39501b8e207d",
   "metadata": {},
   "source": [
    "## Author\n",
    "Unai Garrido Ramírez"
   ]
  },
  {
   "cell_type": "markdown",
   "id": "d50d832a-7b09-4c2c-8092-dbab62cd9fad",
   "metadata": {},
   "source": [
    "# Data Science Tools and Ecosystem"
   ]
  },
  {
   "cell_type": "markdown",
   "id": "caf2e357-3f0a-4bc9-a11c-2785015c6dfd",
   "metadata": {},
   "source": [
    "# In this notebook, Data Science Tools and Ecosystem are summarized"
   ]
  },
  {
   "cell_type": "markdown",
   "id": "92b4146a-b944-4e9f-bf46-41e166475deb",
   "metadata": {},
   "source": [
    "# Some of the popuelar languages that Data Scientist use are\n",
    "1. Python\n",
    "2. R\n",
    "3. SQL"
   ]
  },
  {
   "cell_type": "markdown",
   "id": "ee9af25c-9ed2-4ca3-a8ea-2fec202ba188",
   "metadata": {},
   "source": [
    "**Objectives:**\n",
    "* Popular languages for Data Scientist\n",
    "* Common Libraries used\n",
    "* Some open source Tools and Evironments "
   ]
  },
  {
   "cell_type": "markdown",
   "id": "8acf583a-5dbc-4f97-bb8d-c6e39f7ff6da",
   "metadata": {},
   "source": [
    "# Some of the commonly libraries used by data scientist include:\n",
    "- Pandas\n",
    "- Numpy\n",
    "- Matplotlib"
   ]
  },
  {
   "cell_type": "markdown",
   "id": "214aa06b-8ac6-46d6-b92d-01b108ca858b",
   "metadata": {},
   "source": [
    "\n",
    "| Data Science Tools |\r\n",
    "| --- |\r\n",
    "JupyterLabd\n",
    "|Rstudio|\n",
    "|GoogleCollab| |"
   ]
  },
  {
   "cell_type": "markdown",
   "id": "7fd73b49-a787-4007-9fe3-b9cbf923bfba",
   "metadata": {},
   "source": [
    "### Below are a few examples of evaluating arithmetic expressions in Python"
   ]
  },
  {
   "cell_type": "code",
   "execution_count": 13,
   "id": "9db69c27-5814-4e73-a595-00da8f9baa89",
   "metadata": {},
   "outputs": [
    {
     "data": {
      "text/plain": [
       "17"
      ]
     },
     "execution_count": 13,
     "metadata": {},
     "output_type": "execute_result"
    }
   ],
   "source": [
    "# This a simple arithmetic expression to multiply then adding integers\n",
    "(3*4)+5"
   ]
  },
  {
   "cell_type": "code",
   "execution_count": 4,
   "id": "83fcb4a5-f8ad-45b4-ab9e-ea9c4a080b49",
   "metadata": {},
   "outputs": [
    {
     "data": {
      "text/plain": [
       "3.3333333333333335"
      ]
     },
     "execution_count": 4,
     "metadata": {},
     "output_type": "execute_result"
    }
   ],
   "source": [
    "# This will convert 200 minutes to hours by diving by 60\n",
    "200/60"
   ]
  },
  {
   "cell_type": "markdown",
   "id": "efb489b6-5263-4383-8892-b51fa279df6a",
   "metadata": {},
   "source": []
  }
 ],
 "metadata": {
  "kernelspec": {
   "display_name": "Python 3 (ipykernel)",
   "language": "python",
   "name": "python3"
  },
  "language_info": {
   "codemirror_mode": {
    "name": "ipython",
    "version": 3
   },
   "file_extension": ".py",
   "mimetype": "text/x-python",
   "name": "python",
   "nbconvert_exporter": "python",
   "pygments_lexer": "ipython3",
   "version": "3.12.4"
  }
 },
 "nbformat": 4,
 "nbformat_minor": 5
}
